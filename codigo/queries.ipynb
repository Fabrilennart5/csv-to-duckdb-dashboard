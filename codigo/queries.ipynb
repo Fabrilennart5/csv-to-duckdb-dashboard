{
 "cells": [
  {
   "cell_type": "markdown",
   "metadata": {},
   "source": [
    "## Análisis del Porcentaje de Clientes por Campaña\n",
    "\n",
    "En este análisis utilizaremos SQL para calcular el porcentaje de clientes que realizaron compras en cada campaña. El término **CMP** en marketing hace referencia a **\"Campaign\"** o **\"Campaña\"**.\n",
    "\n",
    "### Detalles del Dataset\n",
    "\n",
    "- Cada columna relacionada con una campaña tiene un valor **booleano**: \n",
    "  - **1** indica que el cliente compró durante esa campaña.\n",
    "  - **0** indica que no realizó ninguna compra.\n",
    "\n",
    "### Importancia\n",
    "\n",
    "Este análisis nos ayuda a:\n",
    "1. **Medir la efectividad de cada campaña.**\n",
    "2. **Identificar tendencias en el comportamiento de los clientes.**\n",
    "3. **Mejorar estrategias futuras basadas en datos concretos.**\n",
    "\n",
    "El objetivo es optimizar el impacto de las campañas y maximizar el retorno de inversión (ROI).\n",
    "\n"
   ]
  },
  {
   "cell_type": "code",
   "execution_count": null,
   "metadata": {},
   "outputs": [],
   "source": [
    "# instalaremos duckdb para conectarnos a  la base de datos que creamos gracias a los scripts\n",
    "# y usaremos pandas para visualizar los datos en formato de dataframe.\n",
    "%pip install duckdb\n",
    "%pip install pandas"
   ]
  },
  {
   "cell_type": "code",
   "execution_count": 2,
   "metadata": {},
   "outputs": [],
   "source": [
    "# impotamos duckdb y mos conectamos a la db\n",
    "import duckdb\n",
    "conexion = duckdb.connect(database=r'D:\\proyectos de codigo\\ddb project\\Data\\base_de_datos.duckdb') "
   ]
  },
  {
   "cell_type": "code",
   "execution_count": 7,
   "metadata": {},
   "outputs": [
    {
     "name": "stdout",
     "output_type": "stream",
     "text": [
      "   total_compradores_primera_campaña  porcentaje_compraron_primera_campaña\n",
      "0                                144                              6.428572\n"
     ]
    }
   ],
   "source": [
    "# Consulta SQL para obtener:\n",
    "# 1. Número de clientes que compraron en la primera campaña (AcceptedCmp1 = 1).\n",
    "# 2. Porcentaje de compradores respecto al total de clientes registrados.\n",
    "# Repetiremos este análisis para las demás campañas (AcceptedCmp2, AcceptedCmp3, etc.).\n",
    "cmp1_porcentaje_total = conexion.execute(\"SELECT COUNT(AcceptedCmp1) AS total_compradores_primera_campaña, (CAST(COUNT(AcceptedCmp1) AS FLOAT) / (SELECT COUNT(*) FROM clientes)) * 100 AS porcentaje_compraron_primera_campaña FROM clientes WHERE AcceptedCmp1 = 1\").fetchdf()\n",
    "print(cmp1_porcentaje_total)"
   ]
  },
  {
   "cell_type": "code",
   "execution_count": 11,
   "metadata": {},
   "outputs": [
    {
     "name": "stdout",
     "output_type": "stream",
     "text": [
      "   total_compradores_segunda_campaña  porcentaje_compraron_segunda_campaña\n",
      "0                                 30                              1.339286\n"
     ]
    }
   ],
   "source": [
    "# Analizamos la segunda campaña\n",
    "# El desempeño de esta campaña fue peor que el de la primera, \n",
    "# ya que menos personas aceptaron comprar. Continuemos con el análisis.\n",
    "cmp2_porcentaje_total = conexion.execute(\"SELECT COUNT(AcceptedCmp2) AS total_compradores_segunda_campaña, (CAST(COUNT(AcceptedCmp2) AS FLOAT) / (SELECT COUNT(*) FROM clientes)) * 100 AS porcentaje_compraron_segunda_campaña FROM clientes WHERE AcceptedCmp2 = 1\").fetchdf()\n",
    "print(cmp2_porcentaje_total)"
   ]
  },
  {
   "cell_type": "code",
   "execution_count": 3,
   "metadata": {},
   "outputs": [
    {
     "name": "stdout",
     "output_type": "stream",
     "text": [
      "   total_compradores_tercera_campaña  porcentaje_compraron_tercera_campaña\n",
      "0                                163                              7.276785\n"
     ]
    }
   ],
   "source": [
    "# En esta campaña (tercera), mejoramos el rendimiento con un 7% de aceptación.\n",
    "# Calculamos el porcentaje de personas que aceptaron la oferta en esta campaña.\n",
    "cmp3_porcentaje_total = conexion.execute(\"SELECT COUNT(AcceptedCmp3) AS total_compradores_tercera_campaña, (CAST(COUNT(AcceptedCmp3) AS FLOAT) / (SELECT COUNT(*) FROM clientes)) * 100 AS porcentaje_compraron_tercera_campaña FROM clientes WHERE AcceptedCmp3 = 1\").fetchdf()\n",
    "print(cmp3_porcentaje_total)"
   ]
  },
  {
   "cell_type": "code",
   "execution_count": 4,
   "metadata": {},
   "outputs": [
    {
     "name": "stdout",
     "output_type": "stream",
     "text": [
      "   total_compradores_cuarta_campaña  porcentaje_compraron_cuarta_campaña\n",
      "0                               167                             7.455357\n"
     ]
    }
   ],
   "source": [
    "# En la cuarta campaña, logramos un rendimiento superior, con más personas comprando.\n",
    "# La tasa de aceptación de esta campaña es cerca del 7.50%, lo que es muy cercano a la tercera campaña.\n",
    "cmp4_porcentaje_total = conexion.execute(\"SELECT COUNT(AcceptedCmp4) AS total_compradores_cuarta_campaña, (CAST(COUNT(AcceptedCmp4) AS FLOAT) / (SELECT COUNT(*) FROM clientes)) * 100 AS porcentaje_compraron_cuarta_campaña FROM clientes WHERE AcceptedCmp4 = 1\").fetchdf()\n",
    "print(cmp4_porcentaje_total)"
   ]
  },
  {
   "cell_type": "code",
   "execution_count": 5,
   "metadata": {},
   "outputs": [
    {
     "name": "stdout",
     "output_type": "stream",
     "text": [
      "   total_compradores_cuarta_campaña  porcentaje_compraron_cuarta_campaña\n",
      "0                               163                             7.276785\n"
     ]
    }
   ],
   "source": [
    "# Observamos que los valores de la quinta campaña son casi idénticos a los de la tercera campaña. \n",
    "# Este hallazgo es relevante y debe ser comunicado al equipo de marketing.\n",
    "cmp5_porcentaje_total = conexion.execute(\"SELECT COUNT(AcceptedCmp5) AS total_compradores_cuarta_campaña, (CAST(COUNT(AcceptedCmp5) AS FLOAT) / (SELECT COUNT(*) FROM clientes)) * 100 AS porcentaje_compraron_cuarta_campaña FROM clientes WHERE AcceptedCmp5 = 1\").fetchdf()\n",
    "print(cmp5_porcentaje_total)"
   ]
  },
  {
   "cell_type": "code",
   "execution_count": 7,
   "metadata": {},
   "outputs": [
    {
     "name": "stdout",
     "output_type": "stream",
     "text": [
      "                   campaña  total_compradores\n",
      "0           Cuarta Campaña                167\n",
      "1  Cuarta Campaña Repetida                163\n",
      "2          Tercera Campaña                163\n",
      "3          Primera Campaña                144\n",
      "4          Segunda Campaña                 30\n"
     ]
    }
   ],
   "source": [
    "# Creamos un ranking con las 5 campañas, ordenando por total de compradores\n",
    "ranking_cmp = conexion.execute(\"SELECT 'Primera Campaña' AS campaña, 144 AS total_compradores UNION ALL SELECT 'Segunda Campaña', 30 UNION ALL SELECT 'Tercera Campaña', 163 UNION ALL SELECT 'Cuarta Campaña', 167 UNION ALL SELECT 'Cuarta Campaña Repetida', 163 ORDER BY total_compradores DESC\").fetchdf()\n",
    "print(ranking_cmp)"
   ]
  }
 ],
 "metadata": {
  "kernelspec": {
   "display_name": "base",
   "language": "python",
   "name": "python3"
  },
  "language_info": {
   "codemirror_mode": {
    "name": "ipython",
    "version": 3
   },
   "file_extension": ".py",
   "mimetype": "text/x-python",
   "name": "python",
   "nbconvert_exporter": "python",
   "pygments_lexer": "ipython3",
   "version": "3.12.3"
  }
 },
 "nbformat": 4,
 "nbformat_minor": 2
}
